{
 "cells": [
  {
   "cell_type": "code",
   "execution_count": 115,
   "id": "ee106b2e-7c2a-4150-a490-e76d7938f85e",
   "metadata": {},
   "outputs": [],
   "source": [
    "import streamlit as st\n",
    "import urllib.request\n",
    "import urllib.parse\n",
    "import pandas as pd\n",
    "import json\n",
    "import re\n",
    "from urllib.request import Request, urlopen\n",
    "from bs4 import BeautifulSoup"
   ]
  },
  {
   "cell_type": "code",
   "execution_count": 116,
   "id": "81f58a42-8bcd-4d1e-9b01-418ecf55d7da",
   "metadata": {},
   "outputs": [],
   "source": [
    "def getID():\n",
    "    with open(\"memo.txt\", 'r') as f:\n",
    "        lines = f.readlines()\n",
    "        client_id = lines[0].strip()  # 첫 번째 줄\n",
    "        client_secret = lines[1].strip()  # 두 번째 줄\n",
    "\n",
    "    return client_id, client_secret"
   ]
  },
  {
   "cell_type": "code",
   "execution_count": 155,
   "id": "c68bd0ca-6e68-4e12-8540-2f69876cf11c",
   "metadata": {},
   "outputs": [
    {
     "name": "stdin",
     "output_type": "stream",
     "text": [
      "검색할 키워드를 입력하세요! 손흥민\n",
      "보고싶은 뉴스의 수를 입력하세요! 3\n"
     ]
    }
   ],
   "source": [
    "web_df = pd.DataFrame(columns = (\"Title\", \"link\", \"postdate\",\"Description\"))\n",
    "\n",
    "keyword = input(\"검색할 키워드를 입력하세요!\")\n",
    "count = int(input(\"보고싶은 뉴스의 수를 입력하세요!\"))\n",
    "\n",
    "if not keyword:\n",
    "    print(\"검색할 키워드를 입력해주세요!!\")\n",
    "else:\n",
    "    client_id, client_secret = getID()\n",
    "    encText = urllib.parse.quote(keyword)\n",
    "    url = f\"https://openapi.naver.com/v1/search/blog?query={encText}&display={count}\"  # JSON 결과 URL\n",
    "    request = urllib.request.Request(url)\n",
    "    request.add_header(\"X-Naver-Client-Id\", client_id)\n",
    "    request.add_header(\"X-Naver-Client-Secret\", client_secret)\n",
    "\n",
    "    response = urllib.request.urlopen(request)\n",
    "    rescode = response.getcode()\n",
    "\n",
    "    if rescode == 200:\n",
    "        response_body = response.read()\n",
    "        response_dict = json.loads(response_body.decode('utf-8'))\n",
    "        items = response_dict['items']\n",
    "        \n",
    "        remove_tag = re.compile('<.*?>') # html 태그 제거 정규식\n",
    "        \n",
    "        for item in items:\n",
    "            title = re.sub(remove_tag, '', item['title'])  # 태그 제거\n",
    "            link = item['link']\n",
    "            postdate = item['postdate']\n",
    "            postdate = pd.to_datetime(postdate, format='%Y%m%d').strftime('%Y년 %m월 %d일')\n",
    "\n",
    "            info_req = Request(link, headers={'User-Agent': 'Mozilla/5.0'})\n",
    "            info_html = urlopen(info_req).read()\n",
    "            bs_obj = BeautifulSoup(info_html, 'html.parser')\n",
    "            \n",
    "            iframe = bs_obj.find('iframe', id='mainFrame')\n",
    "            description = []\n",
    "            if iframe:\n",
    "                iframe_src = iframe.get('src')\n",
    "                iframe_url = \"https://blog.naver.com\" + iframe_src  # 네이버 블로그는 절대 경로 사용\n",
    "                \n",
    "                # 두 번째 요청: iframe의 URL에서 본문 가져오기\n",
    "                iframe_req = Request(iframe_url, headers={'User-Agent': 'Mozilla/5.0'})\n",
    "                iframe_html = urlopen(iframe_req).read()\n",
    "                iframe_soup = BeautifulSoup(iframe_html, 'html.parser')\n",
    "                \n",
    "                # 본문 컨테이너 찾기\n",
    "                content = iframe_soup.find('div', {'class': 'se-main-container'})  # 스마트에디터 본문\n",
    "                if content:\n",
    "                    description.append(content.get_text(strip=True))\n",
    "                else:\n",
    "                    print(\"본문을 가져올 수 없습니다. HTML 구조를 확인하세요.\")\n",
    "            else:\n",
    "                # 스마트에디터 구조 (최신 블로그)\n",
    "                content = None\n",
    "                \n",
    "                if bs_obj.find('div', {'class': 'se-main-container'}):\n",
    "                    content = bs_obj.find('div', {'class': 'se-main-container'})\n",
    "                elif bs_obj.find('div', {'id': 'postViewArea'}):  # 이전 블로그 구조 (구버전 블로그)\n",
    "                    content = bs_obj.find('div', {'id': 'postViewArea'})\n",
    "                elif bs_obj.find('div', {'class': 'contents_style'}):  # 다른 경우 (필요시 추가)\n",
    "                    content = bs_obj.find('div', {'class': 'contents_style'})\n",
    "                \n",
    "                # 본문 내용 추출\n",
    "                if content:\n",
    "                    full_text = content.get_text(strip=True)  # 텍스트만 추출하고 공백 제거\n",
    "                    description.append(full_text)\n",
    "                else:\n",
    "                    print(\"본문을 찾을 수 없습니다. HTML 구조를 확인하세요.\")\n",
    "            \n",
    "            web_df.loc[len(web_df)] = [title, link, postdate,description]  # 데이터프레임 추가\n",
    "        # 리스트 형태의 Description을 문자열로 병합하고 \\u200b 제거\n",
    "        web_df['Description'] = web_df['Description'].apply(lambda x: ' '.join(x).replace('\\u200b', '') if isinstance(x, list) else x)\n",
    "    else:\n",
    "        print(f\"Error Code: {rescode}\")"
   ]
  },
  {
   "cell_type": "code",
   "execution_count": null,
   "id": "5c5947c3-4169-43e9-8812-ae1c4ca59cb9",
   "metadata": {},
   "outputs": [],
   "source": []
  },
  {
   "cell_type": "code",
   "execution_count": 140,
   "id": "b1fc50c5-1503-4606-841a-7c4dedc15972",
   "metadata": {},
   "outputs": [],
   "source": [
    "from sumy.parsers.plaintext import PlaintextParser\n",
    "from sumy.nlp.tokenizers import Tokenizer\n",
    "from sumy.summarizers.lsa import LsaSummarizer"
   ]
  },
  {
   "cell_type": "code",
   "execution_count": 163,
   "id": "495abda1-e829-485c-af0a-fac0d2938e94",
   "metadata": {},
   "outputs": [
    {
     "ename": "NameError",
     "evalue": "name 'text_lines' is not defined",
     "output_type": "error",
     "traceback": [
      "\u001b[1;31m---------------------------------------------------------------------------\u001b[0m",
      "\u001b[1;31mNameError\u001b[0m                                 Traceback (most recent call last)",
      "Cell \u001b[1;32mIn[163], line 3\u001b[0m\n\u001b[0;32m      1\u001b[0m \u001b[38;5;28;01mfor\u001b[39;00m i \u001b[38;5;129;01min\u001b[39;00m \u001b[38;5;28mrange\u001b[39m(\u001b[38;5;28mlen\u001b[39m(web_df)):\n\u001b[0;32m      2\u001b[0m     article \u001b[38;5;241m=\u001b[39m web_df[\u001b[38;5;124m'\u001b[39m\u001b[38;5;124mDescription\u001b[39m\u001b[38;5;124m'\u001b[39m][i]\n\u001b[1;32m----> 3\u001b[0m     article \u001b[38;5;241m=\u001b[39m \u001b[38;5;124m'\u001b[39m\u001b[38;5;130;01m\\n\u001b[39;00m\u001b[38;5;124m'\u001b[39m\u001b[38;5;241m.\u001b[39mjoin([line\u001b[38;5;241m.\u001b[39mstrip() \u001b[38;5;241m+\u001b[39m \u001b[38;5;124m'\u001b[39m\u001b[38;5;124m.\u001b[39m\u001b[38;5;124m'\u001b[39m \u001b[38;5;28;01mfor\u001b[39;00m line \u001b[38;5;129;01min\u001b[39;00m text_lines \u001b[38;5;28;01mif\u001b[39;00m line\u001b[38;5;241m.\u001b[39mstrip()])\n\u001b[0;32m      4\u001b[0m     parser \u001b[38;5;241m=\u001b[39m PlaintextParser\u001b[38;5;241m.\u001b[39mfrom_string(article, Tokenizer(\u001b[38;5;124m\"\u001b[39m\u001b[38;5;124mkorean\u001b[39m\u001b[38;5;124m\"\u001b[39m))\n\u001b[0;32m      5\u001b[0m     summarizer \u001b[38;5;241m=\u001b[39m LsaSummarizer()\n",
      "\u001b[1;31mNameError\u001b[0m: name 'text_lines' is not defined"
     ]
    }
   ],
   "source": [
    "for i in range(len(web_df)):\n",
    "    article = web_df['Description'][i]\n",
    "    article = '\\n'.join([line.strip() + '.' for line in text_lines if line.strip()])\n",
    "    parser = PlaintextParser.from_string(article, Tokenizer(\"korean\"))\n",
    "    summarizer = LsaSummarizer()\n",
    "    summary = summarizer(parser.document, 3)  # 요약할 문장 개수\n",
    "    for sentence in summary:\n",
    "        print(sentence)\n",
    "    print('---')"
   ]
  },
  {
   "cell_type": "code",
   "execution_count": 162,
   "id": "aac61dc8-e614-4013-a611-26ad1992b3ea",
   "metadata": {},
   "outputs": [
    {
     "data": {
      "text/plain": [
       "\"홍명보 감독이 이끄는 남자 축구국가대표팀(FIFA랭킹 22위)은 19일 오후 11시(한국시간) 요르단의암만 국제경기장에서 열린팔레스타인(100위)과의 2026 국제축구연맹(FIFA) 북중미월드컵 아시아 3차 예선B조 6차전에서손흥민(토트넘)의 골에 힘입어 1-1무승부를 거뒀다.(대한축구협회 제공)홍명보 감독은 쿠웨이트와의 5차전(3-1승) 선발 라인업을 변동 없이 기용했다.4-2-3-1 포메이션을 기준으로 최전방에오세훈(마치다 젤비아)를 세우고 2선에손흥민-이재성(마인츠)-이강인(파리생제르맹)을 배치했다.중원에황인범(페예노르트)과박용우(알아인)를 세워 공격과 수비의 연결고리 역할을 맡겼고,포백은이명재(울산 HD)-김민재(뮌헨)-조유민(샤르자)-설영우(즈베즈다)로 꾸렸다.골문은 변함없이조현우(울산 HD)가 지켰다.전력 차이가 많이 났지만 경기 초반 먼저 골을 터뜨린 쪽은팔레스타인이었다.상대 선수와 경합을 펼치고 있는 김민재의 모습.(대한축구협회 제공)전반 12분중앙수비수김민재가 골키퍼조현우에게 건넨 땅볼 백패스가 짧게 처리되며 오히려자이드 쿤바르에게 1대1 찬스를 내줬고, 쿤바르가 조현우를 따돌리고 비어 있는 골대에 볼을 차 넣었다.일격을 당했지만 한국은 흔들리지 않았고, 4분 만에1-1 균형을 맞췄다.손흥민이 동점골을 터뜨린 뒤 세리머니를 하고 있다.(대한축구협회 제공)전반 16분이명재가 내준 볼을 페널티 아크 부근에서 잡은이재성이 곧바로 문전으로 침투하던손흥민에게 원터치로 패스를 내줬고 이를 받은 손흥민이 반대편 골문으로 정교한 오른발 슈팅으로 동점골을 터뜨리며 자신의 131번째 A매치에서 통산51호골을 작성했다.황선홍대전하나시티즌 감독(50골)을 밀어내고통산 득점부문단독 2위로 올라섰으며 역대 1위차범근전 축구대표팀 감독(58골)과의 격차는 7골로 좁혔다.뿐만 아니라 올 한해A매치에서10번째 득점을 기록하며 이 부문개인 최다기록을 새로 썼다. 지난2015년자신이 세운종전 기록(9골)을 스스로 뛰어넘어 최초로 두 자릿수 득점의 주인공이 됐다.손흥민의 동점골로 흐름을 바꾼 한국은 일방적으로 공세를 퍼부었으나골 결정력이 부족했다.전반 20분황인범의 왼발 중거리 슈팅과전반 24분이명재가 왼쪽 측면에서 페널티 에리어를 향해 날카로운 크로스를 보냈고,오세훈이 높게 뛰어올라 이를 머리에 맞췄지만 헤더는 골대 위로 살짝 떴다.손흥민은전반 37분과전반 44분날카로운 슈팅을 때렸으나 팔레스타인 골키퍼의 선방에 막혀 아쉬움을 삼켰다.전반 추가시간코너킥 상황에서박용우가 헤더로 골대를 갈랐으나 앞선 상황에서 한국 선수가파울을 범했다는 심판 판정에 득점이 인정되지 못했다.추가 득점 없이 전반전이 마무리된 채 선수 교체없이후반전에들어서서는 그야말로 한국의파상공세가 펼쳐졌다.후반 2분손흥민의 감아차기가 상대 골키퍼의 선방에 막힌데 이어후반 7분 오세훈이 머리로 떨궈준 볼을황인범이 문전에서 발리 슈팅으로 마무리 지었지만 골문을 외면했다. 5분 뒤에는 코너킥에서 약속된 플레이를 통해이강인이 왼발 슈팅까지 가져가봤지만 수비에 굴절되며 골대 옆으로 빗나갔다.답답한 흐름이 이어지자 홍명보 감독은후반 19분오세훈 대신주민규(울산 HD)를 투입하며 최전방 자리에 변화를 줬다. 이어 8분 뒤 이재성과 이강인을 빼고배준호(스토크)와오현규(헹크)를 넣으며 새롭게 활력을 불어넣고자 했다.황인범이 볼을 몰고 상대 진영으로 전진하고 있다.(대한축구협회 제공)후반 35분황인범의 장거리 패스를 문전으로 침투한손흥민이  1대1 찬스에서 골대로 집어넣어 결승 득점을 올리나 싶었으나 간발의 차로오프사이드가 선언되며 득점은 인정되지 않았고비디오 판독(VAR)에서도 판정이 바뀌지 않았다. .경기 막판에는 설영우 대신김문환(대전하나시티즌)까지 들어가며 역전을 노렸지만 경기는 그대로 1-1 무승부로 종료됐다.팔레스타인과 또 무승부.(사진제공=연합뉴스)그동안 홍명보 감독은 후반에오현규, 배준호등 적극적인 교체 카드를 활용하며 용병술에 있어서 좋은 평가를 받았지만, 이날은 통하지 않았다.오히려수비에서 여러 차례불안한 모습을 노출하며 팔레스타인에 추가 골을 내줄뻔한 아찔한 상황을 맞기도 하는 등 전반적으로 경기 내용이 좋지 않았다.3차 예선1차전홈 경기에서 팔레스타인과0-0으로 비긴 뒤 4연승을 달린 홍명보호는 '리턴 매치'에서 다시1-1로 비김으로써 오만전에서 승리한이라크에게조 1위자리를 위협 받게 됐다.홍명보 감독 (대한축구협회 제공)이라크는오만 원정길에서 1-0으로 승리, 승점 11(3승 2무 1패)로 한국을 3점 차로 추격 중이다.3위요르단은쿠웨이트원정에서 1-1로 비기면서 한국과 격차가 5점으로 유지됐다.한국은2025년 3월A매치 기간에오만·요르단과 홈 2연전을 펼친다.3차 예선 1~2위는월드컵 본선에 직행하고, 3~4위는 4차 예선에 진출해 북중미행 경쟁을 이어간다.#손흥민#김민재#조현우#월드컵#황인범#이강인#팔레스타인#오세훈\""
      ]
     },
     "execution_count": 162,
     "metadata": {},
     "output_type": "execute_result"
    }
   ],
   "source": [
    "web_df['Description'][2]"
   ]
  }
 ],
 "metadata": {
  "kernelspec": {
   "display_name": "Python 3 (ipykernel)",
   "language": "python",
   "name": "python3"
  },
  "language_info": {
   "codemirror_mode": {
    "name": "ipython",
    "version": 3
   },
   "file_extension": ".py",
   "mimetype": "text/x-python",
   "name": "python",
   "nbconvert_exporter": "python",
   "pygments_lexer": "ipython3",
   "version": "3.11.9"
  }
 },
 "nbformat": 4,
 "nbformat_minor": 5
}
