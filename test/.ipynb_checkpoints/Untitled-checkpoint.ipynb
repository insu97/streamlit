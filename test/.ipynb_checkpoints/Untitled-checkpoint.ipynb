{
 "cells": [
  {
   "cell_type": "code",
   "execution_count": 28,
   "id": "ee106b2e-7c2a-4150-a490-e76d7938f85e",
   "metadata": {},
   "outputs": [],
   "source": [
    "import streamlit as st\n",
    "import urllib.request\n",
    "import urllib.parse\n",
    "import pandas as pd\n",
    "import json\n",
    "import re"
   ]
  },
  {
   "cell_type": "code",
   "execution_count": 4,
   "id": "81f58a42-8bcd-4d1e-9b01-418ecf55d7da",
   "metadata": {},
   "outputs": [],
   "source": [
    "def getID():\n",
    "    with open(\"memo.txt\", 'r') as f:\n",
    "        lines = f.readlines()\n",
    "        client_id = lines[0].strip()  # 첫 번째 줄\n",
    "        client_secret = lines[1].strip()  # 두 번째 줄\n",
    "\n",
    "    return client_id, client_secret"
   ]
  },
  {
   "cell_type": "code",
   "execution_count": 44,
   "id": "c68bd0ca-6e68-4e12-8540-2f69876cf11c",
   "metadata": {},
   "outputs": [
    {
     "name": "stdin",
     "output_type": "stream",
     "text": [
      "검색할 키워드를 입력하세요! 손흥민\n"
     ]
    },
    {
     "name": "stdout",
     "output_type": "stream",
     "text": [
      "https://blog.naver.com/lkl7383/223668738063\n",
      "https://blog.naver.com/apple0006175/223673506794\n",
      "https://bada92.tistory.com/5355\n",
      "https://blog.naver.com/isop0315/223667001778\n",
      "https://blog.naver.com/moonlife_kr/223664180335\n",
      "https://blog.naver.com/jhj87lee/223628020670\n",
      "https://blog.naver.com/saycom77/223660094117\n",
      "https://blog.naver.com/xtaiji83/223675140450\n",
      "https://blog.naver.com/exercisenews/223659317757\n",
      "https://blog.naver.com/olengelight/223676600742\n"
     ]
    }
   ],
   "source": [
    "web_df = pd.DataFrame(columns = (\"Title\", \"link\", \"Description\"))\n",
    "\n",
    "keyword = input(\"검색할 키워드를 입력하세요!\")\n",
    "\n",
    "if not keyword:\n",
    "    print(\"검색할 키워드를 입력해주세요!!\")\n",
    "else:\n",
    "    client_id, client_secret = getID()\n",
    "    encText = urllib.parse.quote(keyword)\n",
    "    url = f\"https://openapi.naver.com/v1/search/blog?query={encText}&display=100\"  # JSON 결과 URL\n",
    "    request = urllib.request.Request(url)\n",
    "    request.add_header(\"X-Naver-Client-Id\", client_id)\n",
    "    request.add_header(\"X-Naver-Client-Secret\", client_secret)\n",
    "\n",
    "    response = urllib.request.urlopen(request)\n",
    "    rescode = response.getcode()\n",
    "\n",
    "    if rescode == 200:\n",
    "        response_body = response.read()\n",
    "        response_dict = json.loads(response_body.decode('utf-8'))\n",
    "        items = response_dict['items']\n",
    "        \n",
    "        remove_tag = re.compile('<.*?>') # html 태그 제거 정규식\n",
    "        \n",
    "        for item in items:\n",
    "            title = re.sub(remove_tag, '', item['title'])  # 태그 제거\n",
    "            link = item['link']\n",
    "            print(link)\n",
    "            description = re.sub(remove_tag, '', item['description'])  # 태그 제거\n",
    "            web_df.loc[len(web_df)] = [title, link, description]  # 데이터프레임 추가\n",
    "    else:\n",
    "        print(f\"Error Code: {rescode}\")"
   ]
  },
  {
   "cell_type": "code",
   "execution_count": 43,
   "id": "e76ad40a-4614-4662-8b04-af5e27e1ecea",
   "metadata": {},
   "outputs": [
    {
     "data": {
      "text/plain": [
       "0    손흥민 선수 EPL 오버 햇트릭. 2020. 9.22. 어느날부터 EPL의 축구선수...\n",
       "1    오늘은 손흥민父 고소한 학부모에 대해서 알려드리려고 합니다!! 무슨 일 때문에 고소...\n",
       "2    손흥민 선수는 한국 축구의 아이콘이자 세계적인 축구 스타로 자리매김하고 있습니다. ...\n",
       "3    6차전에서 손흥민(토트넘)의 골에 힘입어 1-1 무승부를 거뒀다. (대한축구협회 제...\n",
       "4    2위: 손흥민 – 월드클래스 축구 스타, 자산 관리도 월드클래스 순자산 추정: 약 ...\n",
       "5    캡틴 손흥민선수가 없을 땐 주장을 맡을만큼 대한민국 축구 대표팀에서 중요한 역할중이...\n",
       "6    대인배 손흥민 “강인이 너그럽게…” 화해의 어깨동무 샷 지난 2월 21일 한겨레 신...\n",
       "7    손흥민 1도움 기록 손흥민은 비슷한 나이대의 EPL 레전드들인 더 브라위너나 모하메...\n",
       "8    홍명보 대한민국 축구 국가대표팀 감독이 ‘주장’ 손흥민(토트넘 홋스퍼)의 쿠웨이트전...\n",
       "9    손흥민 시즌 4호골 득점 장면 유로파리그 페널티킥 토트넘 AS로마 하이라이트 다시보...\n",
       "Name: Description, dtype: object"
      ]
     },
     "execution_count": 43,
     "metadata": {},
     "output_type": "execute_result"
    }
   ],
   "source": [
    "web_df['Description']"
   ]
  },
  {
   "cell_type": "code",
   "execution_count": null,
   "id": "57f0500b-c23f-4e36-ba7c-baf6773eaf0e",
   "metadata": {},
   "outputs": [],
   "source": [
    "# try:\n",
    "#     response = urllib.request.urlopen(request)\n",
    "#     rescode = response.getcode()\n",
    "#\n",
    "#     if rescode == 200:\n",
    "#         response_body = response.read()\n",
    "#         print(response_body.decode('utf-8'))\n",
    "#     else:\n",
    "#         print(f\"Error Code: {rescode}\")\n",
    "#\n",
    "# except urllib.error.HTTPError as e:\n",
    "#     print(f\"HTTPError: {e.code} - {e.reason}\")\n",
    "# except urllib.error.URLError as e:\n",
    "#     print(f\"URLError: {e.reason}\")\n",
    "# except Exception as e:\n",
    "#     print(f\"Unexpected error: {str(e)}\")"
   ]
  }
 ],
 "metadata": {
  "kernelspec": {
   "display_name": "Python 3 (ipykernel)",
   "language": "python",
   "name": "python3"
  },
  "language_info": {
   "codemirror_mode": {
    "name": "ipython",
    "version": 3
   },
   "file_extension": ".py",
   "mimetype": "text/x-python",
   "name": "python",
   "nbconvert_exporter": "python",
   "pygments_lexer": "ipython3",
   "version": "3.11.9"
  }
 },
 "nbformat": 4,
 "nbformat_minor": 5
}
