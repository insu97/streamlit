{
 "cells": [
  {
   "cell_type": "code",
   "id": "d9336e82bb22ede6",
   "metadata": {
    "ExecuteTime": {
     "end_time": "2024-11-27T16:00:40.095852Z",
     "start_time": "2024-11-27T16:00:40.091138Z"
    }
   },
   "source": [
    "import streamlit as st\n",
    "import asyncio\n",
    "from playwright.async_api import async_playwright"
   ],
   "outputs": [],
   "execution_count": 9
  },
  {
   "metadata": {
    "ExecuteTime": {
     "end_time": "2024-11-27T15:58:20.794672Z",
     "start_time": "2024-11-27T15:58:20.790824Z"
    }
   },
   "cell_type": "code",
   "source": "url = \"https://sports.chosun.com/football/?action=worldfootball\"",
   "id": "fcee5987c884ac39",
   "outputs": [],
   "execution_count": 3
  },
  {
   "metadata": {
    "ExecuteTime": {
     "end_time": "2024-11-27T16:00:42.023106Z",
     "start_time": "2024-11-27T16:00:42.016502Z"
    }
   },
   "cell_type": "code",
   "source": [
    "# 비동기 함수로 크롤링 처리\n",
    "async def crawl():\n",
    "    async with async_playwright() as p:\n",
    "        browser = await p.chromium.launch(headless=True)  # headless 모드로 브라우저 실행\n",
    "        page = await browser.new_page()\n",
    "        await page.goto(url)\n",
    "\n",
    "        # # 웹 페이지에서 데이터 추출 (선택자 변경 필요)\n",
    "        # headlines = await page.query_selector_all(\"div.news_title\")\n",
    "        # for headline in headlines:\n",
    "        #     st.write(await headline.inner_text())\n",
    "\n",
    "        await browser.close()"
   ],
   "id": "e6945afd581a949",
   "outputs": [],
   "execution_count": 10
  },
  {
   "metadata": {
    "ExecuteTime": {
     "end_time": "2024-11-27T16:00:42.599412Z",
     "start_time": "2024-11-27T16:00:42.558941Z"
    }
   },
   "cell_type": "code",
   "source": "asyncio.run(crawl())",
   "id": "eb4a3dbff2e0c3e2",
   "outputs": [
    {
     "ename": "RuntimeError",
     "evalue": "asyncio.run() cannot be called from a running event loop",
     "output_type": "error",
     "traceback": [
      "\u001B[1;31m---------------------------------------------------------------------------\u001B[0m",
      "\u001B[1;31mRuntimeError\u001B[0m                              Traceback (most recent call last)",
      "Cell \u001B[1;32mIn[11], line 1\u001B[0m\n\u001B[1;32m----> 1\u001B[0m asyncio\u001B[38;5;241m.\u001B[39mrun(crawl())\n",
      "File \u001B[1;32mC:\\ProgramData\\anaconda3\\envs\\py3_11_9\\Lib\\asyncio\\runners.py:186\u001B[0m, in \u001B[0;36mrun\u001B[1;34m(main, debug)\u001B[0m\n\u001B[0;32m    161\u001B[0m \u001B[38;5;250m\u001B[39m\u001B[38;5;124;03m\"\"\"Execute the coroutine and return the result.\u001B[39;00m\n\u001B[0;32m    162\u001B[0m \n\u001B[0;32m    163\u001B[0m \u001B[38;5;124;03mThis function runs the passed coroutine, taking care of\u001B[39;00m\n\u001B[1;32m   (...)\u001B[0m\n\u001B[0;32m    182\u001B[0m \u001B[38;5;124;03m    asyncio.run(main())\u001B[39;00m\n\u001B[0;32m    183\u001B[0m \u001B[38;5;124;03m\"\"\"\u001B[39;00m\n\u001B[0;32m    184\u001B[0m \u001B[38;5;28;01mif\u001B[39;00m events\u001B[38;5;241m.\u001B[39m_get_running_loop() \u001B[38;5;129;01mis\u001B[39;00m \u001B[38;5;129;01mnot\u001B[39;00m \u001B[38;5;28;01mNone\u001B[39;00m:\n\u001B[0;32m    185\u001B[0m     \u001B[38;5;66;03m# fail fast with short traceback\u001B[39;00m\n\u001B[1;32m--> 186\u001B[0m     \u001B[38;5;28;01mraise\u001B[39;00m \u001B[38;5;167;01mRuntimeError\u001B[39;00m(\n\u001B[0;32m    187\u001B[0m         \u001B[38;5;124m\"\u001B[39m\u001B[38;5;124masyncio.run() cannot be called from a running event loop\u001B[39m\u001B[38;5;124m\"\u001B[39m)\n\u001B[0;32m    189\u001B[0m \u001B[38;5;28;01mwith\u001B[39;00m Runner(debug\u001B[38;5;241m=\u001B[39mdebug) \u001B[38;5;28;01mas\u001B[39;00m runner:\n\u001B[0;32m    190\u001B[0m     \u001B[38;5;28;01mreturn\u001B[39;00m runner\u001B[38;5;241m.\u001B[39mrun(main)\n",
      "\u001B[1;31mRuntimeError\u001B[0m: asyncio.run() cannot be called from a running event loop"
     ]
    }
   ],
   "execution_count": 11
  },
  {
   "metadata": {
    "collapsed": true
   },
   "cell_type": "code",
   "outputs": [],
   "execution_count": null,
   "source": [
    "if st.button(\"검색 시작\"):\n",
    "    try:\n",
    "        with sync_playwright() as p:\n",
    "            browser = p.chromium.launch(headless=True)\n",
    "            page = browser.new_page()\n",
    "            page.goto(url)\n",
    "\n",
    "            # # 웹 페이지에서 데이터 추출 (선택자 변경 필요)\n",
    "            # headlines = page.query_selector_all(\"div.news_title\")\n",
    "            # for headline in headlines:\n",
    "            #     st.write(headline.inner_text())\n",
    "\n",
    "            browser.close()\n",
    "            st.success(\"크롤링 완료!\")\n",
    "    except Exception as e:\n",
    "        st.error(f\"크롤링 중 오류 발생: {e}\")\n",
    "\n",
    "st.write(\"완료!\")"
   ],
   "id": "initial_id"
  }
 ],
 "metadata": {
  "kernelspec": {
   "display_name": "Python 3",
   "language": "python",
   "name": "python3"
  },
  "language_info": {
   "codemirror_mode": {
    "name": "ipython",
    "version": 2
   },
   "file_extension": ".py",
   "mimetype": "text/x-python",
   "name": "python",
   "nbconvert_exporter": "python",
   "pygments_lexer": "ipython2",
   "version": "2.7.6"
  }
 },
 "nbformat": 4,
 "nbformat_minor": 5
}
